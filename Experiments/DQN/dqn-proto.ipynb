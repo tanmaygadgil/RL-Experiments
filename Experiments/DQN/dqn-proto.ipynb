{
 "cells": [
  {
   "cell_type": "markdown",
   "metadata": {},
   "source": [
    "# DQN Prototyping"
   ]
  },
  {
   "cell_type": "code",
   "execution_count": 1,
   "metadata": {},
   "outputs": [],
   "source": [
    "##DQN prototyping\n",
    "\n",
    "import gym\n",
    "import numpy as np\n",
    "import tensorflow as tf\n",
    "from collections import deque, namedtuple"
   ]
  },
  {
   "cell_type": "code",
   "execution_count": 143,
   "metadata": {},
   "outputs": [],
   "source": [
    "#Hard coded variables\n",
    "EPISODES = 10\n",
    "EPSILON = 1\n",
    "EPSILON_DECAY = 0.99\n",
    "SAMPLE_BATCH = 64\n",
    "GAMMA = 0.99"
   ]
  },
  {
   "cell_type": "code",
   "execution_count": 45,
   "metadata": {},
   "outputs": [],
   "source": [
    "from tensorflow import keras"
   ]
  },
  {
   "cell_type": "code",
   "execution_count": 2,
   "metadata": {},
   "outputs": [],
   "source": [
    "c = deque(maxlen=100)"
   ]
  },
  {
   "cell_type": "code",
   "execution_count": 103,
   "metadata": {},
   "outputs": [],
   "source": [
    "Exp = namedtuple(\"experience\", field_names=['s', 'a', 'r','done', 's_p'])"
   ]
  },
  {
   "cell_type": "code",
   "execution_count": 4,
   "metadata": {},
   "outputs": [],
   "source": [
    "c.append(Exp(1,2,3,5))\n",
    "c.append(Exp(2,3,4,5))\n"
   ]
  },
  {
   "cell_type": "code",
   "execution_count": 6,
   "metadata": {},
   "outputs": [],
   "source": [
    "state = np.array([])\n",
    "actions = np.array([])\n",
    "rewards = np.array([])\n",
    "state_p = np.array([])\n",
    "for i in range(len(c)):\n",
    " \n",
    "    s, a, r, s_p = c[i]\n",
    "    state = np.append(state,s) \n",
    "    actions = np.append(actions, a) \n",
    "    rewards = np.append(rewards, r) \n",
    "    state_p = np.append(state_p, s_p)"
   ]
  },
  {
   "cell_type": "code",
   "execution_count": 140,
   "metadata": {},
   "outputs": [],
   "source": [
    "class ExperienceReplay():\n",
    "    def __init__(self, size):\n",
    "        self.buffer = deque(maxlen=size)\n",
    "        \n",
    "    def __len__(self):\n",
    "        return len(self.buffer)\n",
    "    \n",
    "    def add(self, experience):\n",
    "        self.buffer.append(experience)\n",
    "        \n",
    "    def sample(self, sample_size = SAMPLE_BATCH):\n",
    "        state = []\n",
    "        actions = []\n",
    "        rewards = []\n",
    "        dones = []\n",
    "        state_p = []\n",
    "        ##get sample of indices\n",
    "        if sample_size > len(self.buffer):\n",
    "            for i in range(len(self.buffer)):\n",
    "                s, a, r, d, s_p = c[i]\n",
    "                state.append(s)\n",
    "                actions.append(a)\n",
    "                rewards.append(r)\n",
    "                dones.append(d)\n",
    "                state_p.append(s_p)\n",
    "            return np.array(state), np.array(actions), np.array(rewards), np.array(dones), np.array(state_p)\n",
    "        else:\n",
    "            indices = np.random.choice(len(self.buffer), \n",
    "                                       sample_size, \n",
    "                                       replace=False)\n",
    "            for i in indices:\n",
    "                s, a, r, d, s_p = c[i]\n",
    "                state.append(s)\n",
    "                actions.append(a)\n",
    "                rewards.append(r)\n",
    "                dones.append(d)\n",
    "                state_p.append(s_p)\n",
    "            return np.array(state), np.array(actions), np.array(rewards), np.array(dones), np.array(state_p)\n",
    "            \n",
    "            "
   ]
  },
  {
   "cell_type": "code",
   "execution_count": 48,
   "metadata": {},
   "outputs": [],
   "source": [
    "class Model(keras.Model):\n",
    "    def __init__(self, action_size):\n",
    "        super(Model, self).__init__()\n",
    "        self.layer1 = keras.layers.Dense(64)\n",
    "        self.layer2 = keras.layers.Dense(128)\n",
    "        self.layer3 = keras.layers.Dense(128)\n",
    "        self.layer4 = keras.layers.Dense(action_size)\n",
    "        \n",
    "    def call(self, input):\n",
    "        x = self.layer1(input)\n",
    "        x = self.layer2(x)\n",
    "        x = self.layer3(x)\n",
    "        x = self.layer4(x)\n",
    "        \n",
    "        return x"
   ]
  },
  {
   "cell_type": "code",
   "execution_count": 49,
   "metadata": {},
   "outputs": [
    {
     "name": "stderr",
     "output_type": "stream",
     "text": [
      "2022-05-25 17:57:55.821359: I tensorflow/stream_executor/cuda/cuda_gpu_executor.cc:975] successful NUMA node read from SysFS had negative value (-1), but there must be at least one NUMA node, so returning NUMA node zero\n",
      "2022-05-25 17:57:55.826675: I tensorflow/stream_executor/cuda/cuda_gpu_executor.cc:975] successful NUMA node read from SysFS had negative value (-1), but there must be at least one NUMA node, so returning NUMA node zero\n",
      "2022-05-25 17:57:55.827051: I tensorflow/stream_executor/cuda/cuda_gpu_executor.cc:975] successful NUMA node read from SysFS had negative value (-1), but there must be at least one NUMA node, so returning NUMA node zero\n",
      "2022-05-25 17:57:55.828016: I tensorflow/core/platform/cpu_feature_guard.cc:193] This TensorFlow binary is optimized with oneAPI Deep Neural Network Library (oneDNN) to use the following CPU instructions in performance-critical operations:  AVX2 FMA\n",
      "To enable them in other operations, rebuild TensorFlow with the appropriate compiler flags.\n",
      "2022-05-25 17:57:55.828390: I tensorflow/stream_executor/cuda/cuda_gpu_executor.cc:975] successful NUMA node read from SysFS had negative value (-1), but there must be at least one NUMA node, so returning NUMA node zero\n",
      "2022-05-25 17:57:55.828699: I tensorflow/stream_executor/cuda/cuda_gpu_executor.cc:975] successful NUMA node read from SysFS had negative value (-1), but there must be at least one NUMA node, so returning NUMA node zero\n",
      "2022-05-25 17:57:55.828998: I tensorflow/stream_executor/cuda/cuda_gpu_executor.cc:975] successful NUMA node read from SysFS had negative value (-1), but there must be at least one NUMA node, so returning NUMA node zero\n",
      "2022-05-25 17:57:56.306882: I tensorflow/stream_executor/cuda/cuda_gpu_executor.cc:975] successful NUMA node read from SysFS had negative value (-1), but there must be at least one NUMA node, so returning NUMA node zero\n",
      "2022-05-25 17:57:56.307242: I tensorflow/stream_executor/cuda/cuda_gpu_executor.cc:975] successful NUMA node read from SysFS had negative value (-1), but there must be at least one NUMA node, so returning NUMA node zero\n",
      "2022-05-25 17:57:56.307484: I tensorflow/stream_executor/cuda/cuda_gpu_executor.cc:975] successful NUMA node read from SysFS had negative value (-1), but there must be at least one NUMA node, so returning NUMA node zero\n",
      "2022-05-25 17:57:56.307695: I tensorflow/core/common_runtime/gpu/gpu_device.cc:1532] Created device /job:localhost/replica:0/task:0/device:GPU:0 with 2848 MB memory:  -> device: 0, name: NVIDIA GeForce GTX 1050 Ti, pci bus id: 0000:01:00.0, compute capability: 6.1\n"
     ]
    }
   ],
   "source": [
    "model = Model(4)"
   ]
  },
  {
   "cell_type": "code",
   "execution_count": 51,
   "metadata": {},
   "outputs": [],
   "source": [
    "model.compile(loss=tf.losses.CategoricalCrossentropy(), optimizer=tf.optimizers.Adam(), metrics = tf.keras.metrics.CategoricalAccuracy())"
   ]
  },
  {
   "cell_type": "code",
   "execution_count": 54,
   "metadata": {},
   "outputs": [],
   "source": [
    "model.build((None, 8))"
   ]
  },
  {
   "cell_type": "code",
   "execution_count": 55,
   "metadata": {},
   "outputs": [
    {
     "name": "stdout",
     "output_type": "stream",
     "text": [
      "Model: \"model\"\n",
      "_________________________________________________________________\n",
      " Layer (type)                Output Shape              Param #   \n",
      "=================================================================\n",
      " dense (Dense)               multiple                  576       \n",
      "                                                                 \n",
      " dense_1 (Dense)             multiple                  8320      \n",
      "                                                                 \n",
      " dense_2 (Dense)             multiple                  16512     \n",
      "                                                                 \n",
      " dense_3 (Dense)             multiple                  516       \n",
      "                                                                 \n",
      "=================================================================\n",
      "Total params: 25,924\n",
      "Trainable params: 25,924\n",
      "Non-trainable params: 0\n",
      "_________________________________________________________________\n"
     ]
    }
   ],
   "source": [
    "model.summary()"
   ]
  },
  {
   "cell_type": "code",
   "execution_count": 8,
   "metadata": {},
   "outputs": [],
   "source": [
    "env = gym.make(\"LunarLander-v2\")"
   ]
  },
  {
   "cell_type": "code",
   "execution_count": 24,
   "metadata": {},
   "outputs": [
    {
     "data": {
      "text/plain": [
       "2"
      ]
     },
     "execution_count": 24,
     "metadata": {},
     "output_type": "execute_result"
    }
   ],
   "source": [
    "env.action_space.sample()"
   ]
  },
  {
   "cell_type": "code",
   "execution_count": 44,
   "metadata": {},
   "outputs": [
    {
     "data": {
      "text/plain": [
       "8"
      ]
     },
     "execution_count": 44,
     "metadata": {},
     "output_type": "execute_result"
    }
   ],
   "source": [
    "env.observation_space.shape[0]"
   ]
  },
  {
   "cell_type": "code",
   "execution_count": 60,
   "metadata": {},
   "outputs": [
    {
     "name": "stdout",
     "output_type": "stream",
     "text": [
      "4/4 [==============================] - 0s 1ms/step\n"
     ]
    },
    {
     "data": {
      "text/plain": [
       "array([[ 1.39343739e-02, -1.85523719e-01,  3.60337198e-01,\n",
       "        -3.33276466e-02],\n",
       "       [ 3.48664880e-01, -8.08867216e-02,  3.28666449e-01,\n",
       "        -2.76468620e-02],\n",
       "       [-9.57832187e-02,  6.69447631e-02,  2.56931841e-01,\n",
       "         3.70903052e-02],\n",
       "       [ 2.51774490e-02,  1.18934087e-01,  3.41448307e-01,\n",
       "        -9.37756598e-02],\n",
       "       [ 8.47860202e-02, -3.82518172e-01,  2.94760585e-01,\n",
       "        -7.31362104e-02],\n",
       "       [ 7.38018006e-03, -3.53653133e-01,  2.65057981e-01,\n",
       "         2.39874423e-02],\n",
       "       [-3.09006214e-01, -2.73080856e-01,  2.56869465e-01,\n",
       "         1.27394527e-01],\n",
       "       [ 3.86793405e-01, -2.24604547e-01,  2.11883411e-01,\n",
       "        -1.95798516e-01],\n",
       "       [-1.29346967e-01, -1.20875269e-01,  1.93650678e-01,\n",
       "        -1.16823442e-01],\n",
       "       [ 1.50138989e-01,  2.48946771e-02,  8.45889077e-02,\n",
       "         2.10751966e-02],\n",
       "       [ 2.38221273e-01, -2.49520361e-01,  4.47792053e-01,\n",
       "        -1.15226731e-01],\n",
       "       [-9.95132625e-02,  5.47733903e-02,  1.90395266e-01,\n",
       "        -3.57041508e-02],\n",
       "       [-1.67226225e-01, -2.68283546e-01,  5.93085438e-02,\n",
       "        -1.26356184e-02],\n",
       "       [-2.64458686e-01, -8.10609162e-02,  7.19086230e-02,\n",
       "        -5.14250994e-03],\n",
       "       [-2.71566138e-02,  1.48013979e-02,  8.44713077e-02,\n",
       "         3.62268835e-02],\n",
       "       [ 1.23195350e-03,  9.75599885e-02,  3.36801171e-01,\n",
       "        -3.91554199e-02],\n",
       "       [ 3.44966203e-02, -3.53652984e-02,  2.27875262e-01,\n",
       "        -1.35218948e-01],\n",
       "       [-7.63911456e-02, -1.60683945e-01,  1.19135045e-01,\n",
       "         3.60345393e-02],\n",
       "       [-1.76210478e-01, -1.65408850e-01,  2.24153608e-01,\n",
       "         2.21193060e-01],\n",
       "       [-1.97865963e-02,  6.89118877e-02,  2.77830005e-01,\n",
       "         4.97206673e-02],\n",
       "       [-1.32856548e-01,  7.37067610e-02,  1.86006039e-01,\n",
       "         1.43439889e-01],\n",
       "       [ 3.22981447e-01,  8.15610886e-02,  2.24071592e-01,\n",
       "        -5.17533496e-02],\n",
       "       [ 1.11461580e-02, -3.41624677e-01,  1.53714761e-01,\n",
       "        -1.42505988e-01],\n",
       "       [-6.96924478e-02, -1.68585584e-01,  1.00757092e-01,\n",
       "         4.73205671e-02],\n",
       "       [-3.61983359e-01, -1.88581899e-01,  5.31697869e-02,\n",
       "         5.38587123e-02],\n",
       "       [-1.04026347e-02, -2.58512050e-02,  2.74462312e-01,\n",
       "        -2.21599475e-01],\n",
       "       [ 1.13868684e-01, -1.77453801e-01,  2.81851113e-01,\n",
       "        -2.08375663e-01],\n",
       "       [-3.84850472e-01, -2.99530923e-01,  9.00854468e-02,\n",
       "         1.27426207e-01],\n",
       "       [ 1.75929695e-01, -8.37935507e-02,  2.15514466e-01,\n",
       "        -1.44070089e-01],\n",
       "       [ 5.66482283e-02, -1.04710415e-01,  1.18475050e-01,\n",
       "         1.66041702e-02],\n",
       "       [ 5.01763523e-02, -1.07719034e-01,  2.31599778e-01,\n",
       "        -1.10285223e-01],\n",
       "       [ 2.40590423e-02, -4.89655882e-03,  3.03269386e-01,\n",
       "        -1.40689284e-01],\n",
       "       [ 2.04106390e-01, -3.38193268e-01,  3.70658726e-01,\n",
       "         5.29323742e-02],\n",
       "       [-8.03108364e-02, -2.63929367e-03,  2.06590116e-01,\n",
       "         3.84712666e-02],\n",
       "       [ 3.25488150e-01,  5.73478937e-02,  2.42302284e-01,\n",
       "        -2.97806293e-01],\n",
       "       [ 2.99352556e-01, -2.94104815e-01,  7.23370314e-02,\n",
       "        -9.35832113e-02],\n",
       "       [ 7.53003806e-02, -4.63639379e-01,  1.37481287e-01,\n",
       "         9.95023549e-03],\n",
       "       [-7.53576010e-02, -1.30226791e-01,  3.22452039e-01,\n",
       "         8.64948109e-02],\n",
       "       [-5.83232120e-02, -2.94094324e-01,  2.89272964e-02,\n",
       "         1.84244961e-01],\n",
       "       [-9.93506461e-02, -9.43312123e-02,  2.32983261e-01,\n",
       "         7.92697221e-02],\n",
       "       [ 7.58848935e-02,  1.13978699e-01,  2.13607669e-01,\n",
       "         1.56791240e-01],\n",
       "       [ 7.78988451e-02, -8.17450657e-02,  1.16444670e-01,\n",
       "        -2.04844981e-01],\n",
       "       [-1.07022554e-01,  1.16325155e-01,  1.99455217e-01,\n",
       "         8.85786340e-02],\n",
       "       [-1.54629186e-01,  2.11705655e-01,  2.30661556e-01,\n",
       "        -5.31377085e-02],\n",
       "       [-2.98971772e-01,  9.80151594e-02, -4.11829650e-02,\n",
       "         1.68625981e-01],\n",
       "       [-2.53709137e-01,  3.81363392e-01,  2.01928854e-01,\n",
       "         1.33038938e-01],\n",
       "       [ 2.19712198e-01, -6.23915315e-01,  1.79920629e-01,\n",
       "        -1.20863318e-02],\n",
       "       [ 2.79806733e-01, -1.48913741e-01,  1.36356771e-01,\n",
       "        -1.84298664e-01],\n",
       "       [ 1.06992953e-01, -5.31953275e-02,  1.09899223e-01,\n",
       "        -1.10146426e-01],\n",
       "       [-4.84093726e-02, -3.87402654e-01,  1.51462823e-01,\n",
       "         2.45734602e-02],\n",
       "       [ 1.53805599e-01, -2.27086812e-01,  2.00562596e-01,\n",
       "         5.91803640e-02],\n",
       "       [ 1.81283683e-01, -1.77934170e-02,  2.09577456e-01,\n",
       "         3.34830433e-02],\n",
       "       [ 2.41370738e-01, -6.03195429e-01,  1.71436816e-01,\n",
       "        -9.96309370e-02],\n",
       "       [ 3.06654394e-01, -1.67701408e-01,  1.79307371e-01,\n",
       "        -2.03661993e-01],\n",
       "       [ 1.96714163e-01, -1.43628418e-01,  1.20301500e-01,\n",
       "         1.15782626e-01],\n",
       "       [-3.17222357e-01, -1.28376245e-01,  6.03257418e-02,\n",
       "         1.60908341e-01],\n",
       "       [-1.63176149e-01,  1.76867515e-01,  1.15543067e-01,\n",
       "        -7.54073262e-05],\n",
       "       [ 1.04654729e-02, -3.02804559e-02,  3.21655333e-01,\n",
       "         9.98338312e-02],\n",
       "       [ 2.21605495e-01, -9.39686596e-03,  2.51952082e-01,\n",
       "        -1.38907462e-01],\n",
       "       [-1.21576153e-02, -5.13467193e-03,  1.79173946e-01,\n",
       "        -6.60901368e-02],\n",
       "       [ 5.71393967e-03, -3.26160252e-01,  3.44746739e-01,\n",
       "        -8.26860964e-03],\n",
       "       [ 3.36813964e-02, -3.54334652e-01,  2.67879575e-01,\n",
       "         4.50618826e-02],\n",
       "       [-7.60974586e-02, -2.49823362e-01,  1.45265028e-01,\n",
       "         1.06543228e-01],\n",
       "       [-1.20529056e-01, -4.42040861e-02,  1.41971767e-01,\n",
       "         1.82584614e-01],\n",
       "       [-1.62249297e-01,  1.93231106e-02,  1.25532553e-01,\n",
       "        -3.30632925e-03],\n",
       "       [-3.69867757e-02, -2.67038554e-01,  2.90611804e-01,\n",
       "        -3.38815004e-02],\n",
       "       [ 6.27264380e-03, -9.13050622e-02,  3.41218293e-01,\n",
       "         2.48533674e-02],\n",
       "       [ 1.59493834e-01, -1.02370918e-01,  2.54375041e-01,\n",
       "        -1.54191047e-01],\n",
       "       [ 1.27256453e-01, -9.55031216e-02,  6.87165558e-02,\n",
       "         3.82236056e-02],\n",
       "       [ 2.60052621e-01,  1.49846002e-02,  4.76252556e-01,\n",
       "         5.81711531e-03],\n",
       "       [-9.31775123e-02, -1.50332138e-01,  1.81572974e-01,\n",
       "         9.41543579e-02],\n",
       "       [ 4.93225455e-03,  2.78360426e-01,  3.00806969e-01,\n",
       "         1.31236613e-01],\n",
       "       [-1.64586678e-01,  1.12822428e-01,  2.23399043e-01,\n",
       "         2.27587208e-01],\n",
       "       [ 5.58666885e-03, -2.81881779e-01,  3.92873019e-01,\n",
       "        -2.97881663e-03],\n",
       "       [-3.07971910e-02, -2.31720209e-01,  3.10856164e-01,\n",
       "         5.42373918e-02],\n",
       "       [-7.29256570e-02, -1.01912528e-01,  4.40754712e-01,\n",
       "         1.24790534e-01],\n",
       "       [ 1.13680445e-01, -2.20614150e-02,  2.97280788e-01,\n",
       "        -2.70993292e-01],\n",
       "       [-1.10710859e-02,  2.45146871e-01,  3.21064293e-01,\n",
       "        -3.61145884e-02],\n",
       "       [-4.69649941e-01,  5.17559350e-02,  2.96166718e-01,\n",
       "         2.29794547e-01],\n",
       "       [ 1.28391787e-01, -2.82150298e-01,  1.90245926e-01,\n",
       "         2.36403942e-02],\n",
       "       [-2.23891407e-01, -7.94555247e-03,  2.29012161e-01,\n",
       "         6.75078779e-02],\n",
       "       [-1.29366919e-01, -1.88347369e-01,  2.27916658e-01,\n",
       "         7.72756040e-02],\n",
       "       [-3.92394722e-01,  7.33478516e-02,  4.36469167e-02,\n",
       "         2.39641547e-01],\n",
       "       [ 1.39644235e-01, -3.63752306e-01,  4.37332511e-01,\n",
       "        -2.93814763e-03],\n",
       "       [-1.03435643e-01, -1.04102448e-01,  2.94227600e-01,\n",
       "         5.40932454e-02],\n",
       "       [-1.40944362e-01, -2.44673043e-02,  1.01716094e-01,\n",
       "         5.96973449e-02],\n",
       "       [ 9.60627645e-02,  1.45542353e-01,  5.08622676e-02,\n",
       "        -1.87621444e-01],\n",
       "       [ 3.71721804e-01, -1.01455003e-01,  1.85220569e-01,\n",
       "        -2.97460139e-01],\n",
       "       [ 1.30173489e-02, -1.40969336e-01,  1.92267388e-01,\n",
       "        -3.89278978e-02],\n",
       "       [-2.03610748e-01, -8.30626488e-03,  6.69652149e-02,\n",
       "         4.87848446e-02],\n",
       "       [-1.03553250e-01,  1.92961901e-01,  1.88756734e-01,\n",
       "        -1.40690684e-01],\n",
       "       [-2.27312863e-01, -1.51771724e-01,  7.98791051e-02,\n",
       "        -1.10745728e-02],\n",
       "       [ 2.13311076e-01, -1.38117656e-01,  2.29563475e-01,\n",
       "        -1.16753370e-01],\n",
       "       [ 2.54240334e-02,  6.04551286e-02,  3.05704445e-01,\n",
       "         1.29655600e-02],\n",
       "       [-2.17735767e-01, -2.62277365e-01,  1.16807997e-01,\n",
       "         1.15145311e-01],\n",
       "       [ 3.00414860e-01, -3.40340048e-01,  3.63078177e-01,\n",
       "        -9.78701562e-02],\n",
       "       [ 2.03941017e-01,  7.64465854e-02,  3.05729032e-01,\n",
       "        -2.01570481e-01],\n",
       "       [ 3.51849169e-01, -2.70172536e-01,  1.31968379e-01,\n",
       "        -3.83792818e-03],\n",
       "       [ 3.85296911e-01, -1.61796615e-01,  2.95136720e-01,\n",
       "        -1.80568136e-02],\n",
       "       [-8.57560039e-02, -3.22226107e-01,  3.42533708e-01,\n",
       "         4.36051637e-02]], dtype=float32)"
      ]
     },
     "execution_count": 60,
     "metadata": {},
     "output_type": "execute_result"
    }
   ],
   "source": [
    "model.predict(np.random.random((100,8)))"
   ]
  },
  {
   "cell_type": "code",
   "execution_count": 58,
   "metadata": {},
   "outputs": [
    {
     "data": {
      "text/plain": [
       "array([[0.02831499, 0.62038775, 0.18093637, 0.80595114, 0.79132862,\n",
       "        0.18363344, 0.84024099, 0.71797677],\n",
       "       [0.99562149, 0.83630511, 0.9476401 , 0.09238772, 0.85096023,\n",
       "        0.43776523, 0.49075761, 0.76702867],\n",
       "       [0.90276082, 0.24806449, 0.28766574, 0.31268968, 0.00549859,\n",
       "        0.65040789, 0.02128169, 0.62538051],\n",
       "       [0.70238679, 0.58748033, 0.05697965, 0.5815584 , 0.63398542,\n",
       "        0.87392228, 0.04425838, 0.38453657],\n",
       "       [0.63241762, 0.81631012, 0.45111601, 0.93229515, 0.69750908,\n",
       "        0.88138831, 0.92759001, 0.58468893],\n",
       "       [0.09503773, 0.83689978, 0.03577982, 0.55687207, 0.50928529,\n",
       "        0.65407984, 0.9163363 , 0.15907204],\n",
       "       [0.84665889, 0.92591672, 0.02879576, 0.14624993, 0.72940469,\n",
       "        0.64491741, 0.03670241, 0.53269122],\n",
       "       [0.8258057 , 0.3505615 , 0.71720313, 0.33999732, 0.56805005,\n",
       "        0.4035784 , 0.91059843, 0.19157799],\n",
       "       [0.59254459, 0.95163202, 0.40136231, 0.09203811, 0.01644002,\n",
       "        0.52409186, 0.08869122, 0.8523218 ],\n",
       "       [0.61523293, 0.04315794, 0.63203732, 0.12406453, 0.77447175,\n",
       "        0.34806276, 0.70973115, 0.39294009]])"
      ]
     },
     "execution_count": 58,
     "metadata": {},
     "output_type": "execute_result"
    }
   ],
   "source": [
    "np.random.random((10,8))"
   ]
  },
  {
   "cell_type": "code",
   "execution_count": 101,
   "metadata": {},
   "outputs": [
    {
     "ename": "SyntaxError",
     "evalue": "invalid syntax (2576453929.py, line 19)",
     "output_type": "error",
     "traceback": [
      "\u001b[0;36m  Input \u001b[0;32mIn [101]\u001b[0;36m\u001b[0m\n\u001b[0;31m    else;\u001b[0m\n\u001b[0m        ^\u001b[0m\n\u001b[0;31mSyntaxError\u001b[0m\u001b[0;31m:\u001b[0m invalid syntax\n"
     ]
    }
   ],
   "source": [
    "def dqn():\n",
    "    \n",
    "    model = Model()\n",
    "    target = Model()\n",
    "    \n",
    "    model.compile(loss=tf.losses.CategoricalCrossentropy(), optimizer=tf.optimizers.Adam(), metrics = tf.keras.metrics.CategoricalAccuracy())\n",
    "    target.compile(loss=tf.losses.CategoricalCrossentropy(), optimizer=tf.optimizers.Adam(), metrics = tf.keras.metrics.CategoricalAccuracy())\n",
    "    replay = ExperienceReplay(10000)\n",
    "    \n",
    "    for episode in range(EPISODES):\n",
    "    \n",
    "        state = env.reset()\n",
    "        score = 0\n",
    "        \n",
    "        while True:\n",
    "            \n",
    "            if np.random.random() > EPSILON:\n",
    "                action = model.predict(state.reshape(1, -1))\n",
    "            else:\n",
    "                action = env.action_space.sample()\n",
    "                \n",
    "            state_p, reward, done, _ = env.step(action=action)\n",
    "            replay.add(Exp(s = state, \n",
    "                           a = action,\n",
    "                           r = reward,\n",
    "                           done= done, \n",
    "                           s_p = state_p))\n",
    "            #Learn \n",
    "            states, actions, rewards, dones, states_p = replay.sample()\n",
    "            q_vals = model.predict(states)\n",
    "            q_vals_new = np.max(model.predict(states_p), axis = 1)\n",
    "            \n",
    "            q_target = rewards + GAMMA * q_vals_new * dones\n",
    "            \n",
    "                       \n",
    "                \n",
    "            \n",
    "            "
   ]
  },
  {
   "cell_type": "code",
   "execution_count": 63,
   "metadata": {},
   "outputs": [
    {
     "data": {
      "text/plain": [
       "(array([-0.00389986,  1.391949  , -0.20417786, -0.43419787,  0.00670153,\n",
       "         0.0897917 ,  0.        ,  0.        ], dtype=float32),\n",
       " -2.2680782152933134,\n",
       " False,\n",
       " {})"
      ]
     },
     "execution_count": 63,
     "metadata": {},
     "output_type": "execute_result"
    }
   ],
   "source": [
    "env.reset()\n",
    "env.step(env.action_space.sample())"
   ]
  },
  {
   "cell_type": "code",
   "execution_count": 90,
   "metadata": {},
   "outputs": [
    {
     "data": {
      "text/plain": [
       "(array([-0.06623831,  0.9630391 , -0.25177294, -0.9925629 ,  0.21233341,\n",
       "         0.09543299,  0.        ,  0.        ], dtype=float32),\n",
       " -0.48689421732714666,\n",
       " False,\n",
       " {})"
      ]
     },
     "execution_count": 90,
     "metadata": {},
     "output_type": "execute_result"
    }
   ],
   "source": [
    "env.step(env.action_space.sample())"
   ]
  },
  {
   "cell_type": "code",
   "execution_count": 138,
   "metadata": {},
   "outputs": [
    {
     "name": "stdout",
     "output_type": "stream",
     "text": [
      "1/1 [==============================] - 0s 17ms/step\n"
     ]
    },
    {
     "data": {
      "text/plain": [
       "array([1])"
      ]
     },
     "execution_count": 138,
     "metadata": {},
     "output_type": "execute_result"
    }
   ],
   "source": [
    "np.argmax(model.predict(env.reset().reshape(1,-1)), axis = 1)"
   ]
  },
  {
   "cell_type": "code",
   "execution_count": 141,
   "metadata": {},
   "outputs": [],
   "source": [
    "state = np.random.random((10,8))\n",
    "rewards = np.random.random((10,1))\n",
    "dones = np.array([np.random.choice([True, False]) for i in range(10)])"
   ]
  },
  {
   "cell_type": "code",
   "execution_count": 144,
   "metadata": {},
   "outputs": [
    {
     "name": "stdout",
     "output_type": "stream",
     "text": [
      "1/1 [==============================] - 0s 16ms/step\n"
     ]
    }
   ],
   "source": [
    "q_fut = np.max(model.predict(state), axis = 1)"
   ]
  },
  {
   "cell_type": "code",
   "execution_count": 154,
   "metadata": {},
   "outputs": [
    {
     "data": {
      "text/plain": [
       "array([0.40931207, 0.09657527, 0.90224723, 0.31664349, 0.51111311,\n",
       "       1.25086158, 0.32520274, 1.35936309, 0.42618603, 0.67265275])"
      ]
     },
     "execution_count": 154,
     "metadata": {},
     "output_type": "execute_result"
    }
   ],
   "source": [
    "dones*q_fut*GAMMA +rewards.reshape(-1)"
   ]
  },
  {
   "cell_type": "code",
   "execution_count": 148,
   "metadata": {},
   "outputs": [
    {
     "data": {
      "text/plain": [
       "array([0.31978217, 0.08766681, 0.42509478, 0.30133817, 0.30999145,\n",
       "       0.2773019 , 0.38368082, 0.36521935, 0.26070544, 0.1978873 ],\n",
       "      dtype=float32)"
      ]
     },
     "execution_count": 148,
     "metadata": {},
     "output_type": "execute_result"
    }
   ],
   "source": [
    "q_fut"
   ]
  },
  {
   "cell_type": "code",
   "execution_count": 156,
   "metadata": {},
   "outputs": [],
   "source": [
    "o = np.array([])\n",
    "o = np.append(o, np.array([1,2,3]))\n",
    "o = np.append(o, np.array([4,5,7]))"
   ]
  },
  {
   "cell_type": "code",
   "execution_count": 158,
   "metadata": {},
   "outputs": [],
   "source": [
    "o = [[1,2,3],[1,3,4]]"
   ]
  },
  {
   "cell_type": "code",
   "execution_count": 161,
   "metadata": {},
   "outputs": [
    {
     "data": {
      "text/plain": [
       "(2, 3)"
      ]
     },
     "execution_count": 161,
     "metadata": {},
     "output_type": "execute_result"
    }
   ],
   "source": []
  },
  {
   "cell_type": "code",
   "execution_count": null,
   "metadata": {},
   "outputs": [],
   "source": []
  }
 ],
 "metadata": {
  "interpreter": {
   "hash": "90e998891dc8591c319a10683017fd813ece281029df2a663879d0bcabaac420"
  },
  "kernelspec": {
   "display_name": "Python 3.9.12 ('base')",
   "language": "python",
   "name": "python3"
  },
  "language_info": {
   "codemirror_mode": {
    "name": "ipython",
    "version": 3
   },
   "file_extension": ".py",
   "mimetype": "text/x-python",
   "name": "python",
   "nbconvert_exporter": "python",
   "pygments_lexer": "ipython3",
   "version": "3.9.12"
  },
  "orig_nbformat": 4
 },
 "nbformat": 4,
 "nbformat_minor": 2
}
