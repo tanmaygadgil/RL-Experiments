{
 "cells": [
  {
   "cell_type": "code",
   "execution_count": 21,
   "metadata": {},
   "outputs": [],
   "source": [
    "##DQN prototyping\n",
    "\n",
    "import gym\n",
    "import numpy as np\n",
    "import tensorflow as tf\n",
    "from collections import deque, namedtuple"
   ]
  },
  {
   "cell_type": "code",
   "execution_count": 28,
   "metadata": {},
   "outputs": [],
   "source": [
    "c = deque(maxlen=100)"
   ]
  },
  {
   "cell_type": "code",
   "execution_count": 29,
   "metadata": {},
   "outputs": [],
   "source": [
    "Exp = namedtuple(\"experience\", field_names=['s', 'a', 'r', 's_p'])"
   ]
  },
  {
   "cell_type": "code",
   "execution_count": 30,
   "metadata": {},
   "outputs": [],
   "source": [
    "c.append(Exp(1,2,3,5))\n",
    "c.append(Exp(2,3,4,5))\n"
   ]
  },
  {
   "cell_type": "code",
   "execution_count": 31,
   "metadata": {},
   "outputs": [
    {
     "data": {
      "text/plain": [
       "deque([experience(s=1, a=2, r=3, s_p=5), experience(s=2, a=3, r=4, s_p=5)])"
      ]
     },
     "execution_count": 31,
     "metadata": {},
     "output_type": "execute_result"
    }
   ],
   "source": [
    "c"
   ]
  },
  {
   "cell_type": "code",
   "execution_count": 32,
   "metadata": {},
   "outputs": [
    {
     "ename": "ValueError",
     "evalue": "not enough values to unpack (expected 4, got 2)",
     "output_type": "error",
     "traceback": [
      "\u001b[0;31m---------------------------------------------------------------------------\u001b[0m",
      "\u001b[0;31mValueError\u001b[0m                                Traceback (most recent call last)",
      "\u001b[1;32mUntitled-1.ipynb Cell 6'\u001b[0m in \u001b[0;36m<cell line: 4>\u001b[0;34m()\u001b[0m\n\u001b[1;32m      <a href='vscode-notebook-cell:Untitled-1.ipynb?jupyter-notebook#ch0000009untitled?line=0'>1</a>\u001b[0m indices \u001b[39m=\u001b[39m [\u001b[39m0\u001b[39m,\u001b[39m1\u001b[39m]\n\u001b[1;32m      <a href='vscode-notebook-cell:Untitled-1.ipynb?jupyter-notebook#ch0000009untitled?line=2'>3</a>\u001b[0m \u001b[39m#  = \u001b[39;00m\n\u001b[0;32m----> <a href='vscode-notebook-cell:Untitled-1.ipynb?jupyter-notebook#ch0000009untitled?line=3'>4</a>\u001b[0m s, a, r, s_p \u001b[39m=\u001b[39m \u001b[39mzip\u001b[39m([c[i] \u001b[39mfor\u001b[39;00m i \u001b[39min\u001b[39;00m indices])\n",
      "\u001b[0;31mValueError\u001b[0m: not enough values to unpack (expected 4, got 2)"
     ]
    }
   ],
   "source": [
    "indices = [0,1]\n",
    "\n",
    "#  = \n",
    "s, a, r, s_p = zip([c[i] for i in indices])"
   ]
  },
  {
   "cell_type": "code",
   "execution_count": 40,
   "metadata": {},
   "outputs": [
    {
     "name": "stdout",
     "output_type": "stream",
     "text": [
      "0\n",
      "1\n"
     ]
    }
   ],
   "source": [
    "state = np.array([])\n",
    "actions = np.array([])\n",
    "rewards = np.array([])\n",
    "state_p = np.array([])\n",
    "for i in range(len(c)):\n",
    " \n",
    "    s, a, r, s_p = c[i]\n",
    "    state = np.append(state,s) \n",
    "    actions = np.append(actions, a) \n",
    "    rewards = np.append(rewards, r) \n",
    "    state_p = np.append(state_p, s_p)"
   ]
  },
  {
   "cell_type": "code",
   "execution_count": null,
   "metadata": {},
   "outputs": [],
   "source": [
    "class ExperienceReplay():\n",
    "    def __init__(self, size):\n",
    "        self.buffer = deque(maxlen=size)\n",
    "        \n",
    "    def __len__(self):\n",
    "        return len(self.buffer)\n",
    "    \n",
    "    def add(self, experience):\n",
    "        self.buffer.append(experience)\n",
    "        \n",
    "    def sample(self, sample_size):\n",
    "        state = np.array([])\n",
    "        actions = np.array([])\n",
    "        rewards = np.array([])\n",
    "        state_p = np.array([])\n",
    "        ##get sample of indices\n",
    "        if sample_size > len(self.buffer):\n",
    "            for i in range(len(self.buffer)):\n",
    "                s, a, r, s_p = c[i]\n",
    "                state = np.append(state,s) \n",
    "                actions = np.append(actions, a) \n",
    "                rewards = np.append(rewards, r) \n",
    "                state_p = np.append(state_p, s_p)\n",
    "            return state, actions, rewards, state_p\n",
    "        else:\n",
    "            indices = np.random.choice(len(self.buffer), \n",
    "                                       sample_size, \n",
    "                                       replace=False)\n",
    "            for i in indices:\n",
    "                s, a, r, s_p = c[i]\n",
    "                state = np.append(state,s) \n",
    "                actions = np.append(actions, a) \n",
    "                rewards = np.append(rewards, r) \n",
    "                state_p = np.append(state_p, s_p)\n",
    "                return state, actions, rewards, state_p\n",
    "            \n",
    "            "
   ]
  }
 ],
 "metadata": {
  "interpreter": {
   "hash": "90e998891dc8591c319a10683017fd813ece281029df2a663879d0bcabaac420"
  },
  "kernelspec": {
   "display_name": "Python 3.9.12 ('base')",
   "language": "python",
   "name": "python3"
  },
  "language_info": {
   "codemirror_mode": {
    "name": "ipython",
    "version": 3
   },
   "file_extension": ".py",
   "mimetype": "text/x-python",
   "name": "python",
   "nbconvert_exporter": "python",
   "pygments_lexer": "ipython3",
   "version": "3.9.12"
  },
  "orig_nbformat": 4
 },
 "nbformat": 4,
 "nbformat_minor": 2
}
