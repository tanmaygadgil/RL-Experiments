{
 "cells": [
  {
   "cell_type": "code",
   "execution_count": 7,
   "id": "1d9fb509",
   "metadata": {},
   "outputs": [],
   "source": [
    "import numpy as np\n",
    "import tensorflow as tf\n",
    "from tensorflow import keras\n",
    "from tensorflow.keras import layers\n",
    "import gym\n",
    "import scipy.signal\n",
    "import time\n",
    "from numba import jit"
   ]
  },
  {
   "cell_type": "code",
   "execution_count": null,
   "id": "b6cdd5c7",
   "metadata": {},
   "outputs": [],
   "source": []
  },
  {
   "cell_type": "code",
   "execution_count": 2,
   "id": "af42f42f",
   "metadata": {},
   "outputs": [],
   "source": [
    "def discounted_cumulative_sums(x, discount):\n",
    "    # Discounted cumulative sums of vectors for computing rewards-to-go and advantage estimates\n",
    "    return scipy.signal.lfilter([1], [1, float(-discount)], x[::-1], axis=0)[::-1]"
   ]
  },
  {
   "cell_type": "code",
   "execution_count": 63,
   "id": "2db392be",
   "metadata": {},
   "outputs": [],
   "source": [
    "a = np.random.randint(0,20,size = 10000)"
   ]
  },
  {
   "cell_type": "code",
   "execution_count": 64,
   "id": "6e7b045b",
   "metadata": {},
   "outputs": [
    {
     "data": {
      "text/plain": [
       "array([ 7,  5, 12, ...,  5, 15, 18])"
      ]
     },
     "execution_count": 64,
     "metadata": {},
     "output_type": "execute_result"
    }
   ],
   "source": [
    "a"
   ]
  },
  {
   "cell_type": "code",
   "execution_count": 65,
   "id": "3ed54c4e",
   "metadata": {},
   "outputs": [
    {
     "name": "stdout",
     "output_type": "stream",
     "text": [
      "58.6 µs ± 786 ns per loop (mean ± std. dev. of 7 runs, 10,000 loops each)\n"
     ]
    }
   ],
   "source": [
    "%%timeit\n",
    "# %time\n",
    "discounted_cumulative_sums(a,0.9)"
   ]
  },
  {
   "cell_type": "code",
   "execution_count": 33,
   "id": "c24a93c5",
   "metadata": {},
   "outputs": [
    {
     "data": {
      "text/plain": [
       "array([ 1, 19,  9, 18,  8,  7, 17,  9, 19,  6])"
      ]
     },
     "execution_count": 33,
     "metadata": {},
     "output_type": "execute_result"
    }
   ],
   "source": [
    "a[::-1]"
   ]
  },
  {
   "cell_type": "code",
   "execution_count": 31,
   "id": "c76303e8",
   "metadata": {},
   "outputs": [
    {
     "name": "stdout",
     "output_type": "stream",
     "text": [
      "6 0\n",
      "19 1\n",
      "9 2\n",
      "17 3\n",
      "7 4\n",
      "8 5\n",
      "18 6\n",
      "9 7\n",
      "19 8\n",
      "1 9\n"
     ]
    }
   ],
   "source": [
    "for i in range(len(a)):\n",
    "    tmp = 0\n",
    "    tmp += a[i] * pow(0.9, i)\n",
    "    print(a[i], i)"
   ]
  },
  {
   "cell_type": "code",
   "execution_count": 30,
   "id": "2b0c0def",
   "metadata": {},
   "outputs": [
    {
     "data": {
      "text/plain": [
       "0.3874204890000001"
      ]
     },
     "execution_count": 30,
     "metadata": {},
     "output_type": "execute_result"
    }
   ],
   "source": [
    "tmp"
   ]
  },
  {
   "cell_type": "code",
   "execution_count": 67,
   "id": "b1d22431",
   "metadata": {},
   "outputs": [],
   "source": [
    "@jit\n",
    "def dcs(x:np.array, d:float)->np.array:\n",
    "    disc_sum = np.zeros(len(x))\n",
    "    for i in range(len(x)):\n",
    "        tmp = 0\n",
    "        for j in range(len(x[i:])):\n",
    "            tmp += x[i+j]*pow(d, j)\n",
    "        disc_sum[i] = tmp\n",
    "        \n",
    "    return disc_sum\n",
    "        "
   ]
  },
  {
   "cell_type": "code",
   "execution_count": 68,
   "id": "f8d88a3f",
   "metadata": {},
   "outputs": [
    {
     "name": "stdout",
     "output_type": "stream",
     "text": [
      "2.61 s ± 38.8 ms per loop (mean ± std. dev. of 7 runs, 1 loop each)\n"
     ]
    }
   ],
   "source": [
    "%%timeit\n",
    "dcs(a, 0.9)"
   ]
  },
  {
   "cell_type": "code",
   "execution_count": null,
   "id": "b6a90d54",
   "metadata": {},
   "outputs": [],
   "source": []
  }
 ],
 "metadata": {
  "kernelspec": {
   "display_name": "Python 3 (ipykernel)",
   "language": "python",
   "name": "python3"
  },
  "language_info": {
   "codemirror_mode": {
    "name": "ipython",
    "version": 3
   },
   "file_extension": ".py",
   "mimetype": "text/x-python",
   "name": "python",
   "nbconvert_exporter": "python",
   "pygments_lexer": "ipython3",
   "version": "3.9.12"
  }
 },
 "nbformat": 4,
 "nbformat_minor": 5
}
