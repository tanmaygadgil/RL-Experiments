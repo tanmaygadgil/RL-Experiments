{
 "cells": [
  {
   "cell_type": "code",
   "execution_count": 1,
   "id": "a1965185",
   "metadata": {},
   "outputs": [],
   "source": [
    "import gym\n",
    "import numpy as np\n",
    "import tensorflow as tf\n",
    "from collections import deque, namedtuple\n",
    "from tensorflow import keras\n",
    "import matplotlib.pyplot as plt\n"
   ]
  },
  {
   "cell_type": "code",
   "execution_count": null,
   "id": "f06634a7",
   "metadata": {},
   "outputs": [],
   "source": []
  },
  {
   "cell_type": "code",
   "execution_count": 2,
   "id": "7e53397a",
   "metadata": {},
   "outputs": [],
   "source": [
    "class Model(keras.Model):\n",
    "    def __init__(self, action_size) -> None:\n",
    "        super(Model, self).__init__()\n",
    "        self.layer1 = keras.layers.Dense(64, activation = 'relu')\n",
    "        self.layer2 = keras.layers.Dense(64, activation = 'relu')\n",
    "        \n",
    "        self.actor = keras.layers.Dense(action_size, activation = 'softmax')\n",
    "        self.critic = keras.layers.Dense(1)\n",
    "        \n",
    "    def call(self,input):\n",
    "        \n",
    "        x = self.layer1(input)\n",
    "        x = self.layer2(x)\n",
    "        \n",
    "        #Action Distribution\n",
    "        actor = self.actor(x)\n",
    "        \n",
    "        #Value of rollout of rewards\n",
    "        critic = self.critic(x)\n",
    "        \n",
    "        return actor, critic"
   ]
  },
  {
   "cell_type": "code",
   "execution_count": 3,
   "id": "7e460379",
   "metadata": {},
   "outputs": [],
   "source": [
    "# model = Model(4)"
   ]
  },
  {
   "cell_type": "code",
   "execution_count": 4,
   "id": "97508386",
   "metadata": {},
   "outputs": [],
   "source": [
    "env = gym.make(\"LunarLander-v2\", continuous = True)"
   ]
  },
  {
   "cell_type": "code",
   "execution_count": 5,
   "id": "919ee74b",
   "metadata": {},
   "outputs": [
    {
     "data": {
      "text/plain": [
       "array([ 0.8322714 , -0.67001766], dtype=float32)"
      ]
     },
     "execution_count": 5,
     "metadata": {},
     "output_type": "execute_result"
    }
   ],
   "source": [
    "env.action_space.sample()"
   ]
  },
  {
   "cell_type": "code",
   "execution_count": 6,
   "id": "d144dc2c",
   "metadata": {},
   "outputs": [
    {
     "data": {
      "text/plain": [
       "Box(-inf, inf, (8,), float32)"
      ]
     },
     "execution_count": 6,
     "metadata": {},
     "output_type": "execute_result"
    }
   ],
   "source": [
    "env.observation_space"
   ]
  },
  {
   "cell_type": "code",
   "execution_count": 7,
   "id": "e2956269",
   "metadata": {},
   "outputs": [],
   "source": [
    "for i in range(10):\n",
    "    state = env.reset()\n",
    "    while True:\n",
    "        action = env.action_space.sample()\n",
    "        env.render()\n",
    "        state_p, reward, done, _ = env.step(action)\n",
    "        if done:\n",
    "            break"
   ]
  },
  {
   "cell_type": "code",
   "execution_count": 33,
   "id": "fe443c7b",
   "metadata": {},
   "outputs": [],
   "source": [
    "env.close()"
   ]
  },
  {
   "cell_type": "code",
   "execution_count": 54,
   "id": "41ff6eb4",
   "metadata": {},
   "outputs": [],
   "source": [
    "space = env.reset()"
   ]
  },
  {
   "cell_type": "code",
   "execution_count": 55,
   "id": "bc3b6732",
   "metadata": {},
   "outputs": [
    {
     "data": {
      "text/plain": [
       "array([ 0.00311222,  1.3986368 ,  0.3152082 , -0.54591626, -0.0035994 ,\n",
       "       -0.07139947,  0.        ,  0.        ], dtype=float32)"
      ]
     },
     "execution_count": 55,
     "metadata": {},
     "output_type": "execute_result"
    }
   ],
   "source": [
    "space"
   ]
  },
  {
   "cell_type": "code",
   "execution_count": 56,
   "id": "3750f3fe",
   "metadata": {},
   "outputs": [],
   "source": [
    "state = tf.convert_to_tensor(space)"
   ]
  },
  {
   "cell_type": "code",
   "execution_count": 57,
   "id": "fbe61f25",
   "metadata": {},
   "outputs": [],
   "source": [
    "state = tf.convert_to_tensor(state)\n",
    "state = tf.reshape(state, (1, len(state)))\n",
    "\n",
    "action_probs, critic_val = model(state)"
   ]
  },
  {
   "cell_type": "code",
   "execution_count": 58,
   "id": "da261238",
   "metadata": {},
   "outputs": [
    {
     "data": {
      "text/plain": [
       "<tf.Tensor: shape=(1, 4), dtype=float32, numpy=array([[0.31890666, 0.17685933, 0.24910223, 0.25513178]], dtype=float32)>"
      ]
     },
     "execution_count": 58,
     "metadata": {},
     "output_type": "execute_result"
    }
   ],
   "source": [
    "action_probs"
   ]
  },
  {
   "cell_type": "code",
   "execution_count": 59,
   "id": "779345ef",
   "metadata": {},
   "outputs": [
    {
     "data": {
      "text/plain": [
       "<tf.Tensor: shape=(1, 1), dtype=float32, numpy=array([[0.25513676]], dtype=float32)>"
      ]
     },
     "execution_count": 59,
     "metadata": {},
     "output_type": "execute_result"
    }
   ],
   "source": [
    "critic_val"
   ]
  },
  {
   "cell_type": "code",
   "execution_count": 60,
   "id": "498751aa",
   "metadata": {},
   "outputs": [],
   "source": [
    "action = np.random.choice(env.action_space.n, p = np.squeeze(action_probs))"
   ]
  },
  {
   "cell_type": "code",
   "execution_count": 61,
   "id": "6f78d1fd",
   "metadata": {},
   "outputs": [
    {
     "data": {
      "text/plain": [
       "1"
      ]
     },
     "execution_count": 61,
     "metadata": {},
     "output_type": "execute_result"
    }
   ],
   "source": [
    "action"
   ]
  },
  {
   "cell_type": "code",
   "execution_count": 45,
   "id": "494b5335",
   "metadata": {},
   "outputs": [
    {
     "data": {
      "text/plain": [
       "array([0.24676606, 0.25266385, 0.25108433, 0.24948576], dtype=float32)"
      ]
     },
     "execution_count": 45,
     "metadata": {},
     "output_type": "execute_result"
    }
   ],
   "source": [
    "np.squeeze(action_probs)"
   ]
  },
  {
   "cell_type": "code",
   "execution_count": 46,
   "id": "0db4156e",
   "metadata": {},
   "outputs": [
    {
     "data": {
      "text/plain": [
       "2"
      ]
     },
     "execution_count": 46,
     "metadata": {},
     "output_type": "execute_result"
    }
   ],
   "source": [
    "env.action_space.n"
   ]
  },
  {
   "cell_type": "code",
   "execution_count": 63,
   "id": "a25f7669",
   "metadata": {},
   "outputs": [],
   "source": [
    "action_probs_episodes = []\n",
    "critic_val_episodes = []\n"
   ]
  },
  {
   "cell_type": "code",
   "execution_count": 70,
   "id": "b9d2f074",
   "metadata": {},
   "outputs": [],
   "source": [
    "episode_reward = 0"
   ]
  },
  {
   "cell_type": "code",
   "execution_count": 67,
   "id": "dc840b30",
   "metadata": {},
   "outputs": [],
   "source": [
    "rewards_history = []"
   ]
  },
  {
   "cell_type": "code",
   "execution_count": 64,
   "id": "56de6e92",
   "metadata": {},
   "outputs": [],
   "source": [
    "action_probs_episodes.append(tf.math.log(action_probs[0, action]))"
   ]
  },
  {
   "cell_type": "code",
   "execution_count": 65,
   "id": "56882890",
   "metadata": {},
   "outputs": [],
   "source": [
    "state, reward, done, _ = env.step(action)"
   ]
  },
  {
   "cell_type": "code",
   "execution_count": 66,
   "id": "01112705",
   "metadata": {},
   "outputs": [
    {
     "data": {
      "text/plain": [
       "array([ 0.0061492 ,  1.385767  ,  0.30536947, -0.57200074, -0.00524055,\n",
       "       -0.03282565,  0.        ,  0.        ], dtype=float32)"
      ]
     },
     "execution_count": 66,
     "metadata": {},
     "output_type": "execute_result"
    }
   ],
   "source": [
    "state"
   ]
  },
  {
   "cell_type": "code",
   "execution_count": 71,
   "id": "e69a948d",
   "metadata": {},
   "outputs": [],
   "source": [
    "rewards_history.append(reward)\n",
    "episode_reward += reward"
   ]
  },
  {
   "cell_type": "code",
   "execution_count": null,
   "id": "3070e3cd",
   "metadata": {},
   "outputs": [],
   "source": []
  }
 ],
 "metadata": {
  "kernelspec": {
   "display_name": "Python 3 (ipykernel)",
   "language": "python",
   "name": "python3"
  },
  "language_info": {
   "codemirror_mode": {
    "name": "ipython",
    "version": 3
   },
   "file_extension": ".py",
   "mimetype": "text/x-python",
   "name": "python",
   "nbconvert_exporter": "python",
   "pygments_lexer": "ipython3",
   "version": "3.9.12"
  }
 },
 "nbformat": 4,
 "nbformat_minor": 5
}
