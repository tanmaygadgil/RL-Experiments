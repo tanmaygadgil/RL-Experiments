{
 "cells": [
  {
   "cell_type": "code",
   "execution_count": 1,
   "id": "4143b8e3",
   "metadata": {},
   "outputs": [],
   "source": [
    "import gym\n",
    "import numpy as np\n",
    "import tensorflow as tf\n",
    "from collections import deque, namedtuple\n",
    "from tensorflow import keras\n",
    "import matplotlib.pyplot as plt\n"
   ]
  },
  {
   "cell_type": "code",
   "execution_count": 2,
   "id": "bcd2c77a",
   "metadata": {},
   "outputs": [],
   "source": [
    "class Model(keras.Model):\n",
    "    def __init__(self, action_size) -> None:\n",
    "        super(Model, self).__init__()\n",
    "        self.layer1 = keras.layers.Dense(64, activation = 'relu')\n",
    "        self.layer2 = keras.layers.Dense(64, activation = 'relu')\n",
    "        \n",
    "        self.actor = keras.layers.Dense(action_size, activation = 'softmax')\n",
    "        self.critic = keras.layers.Dense(1)\n",
    "        \n",
    "    def call(self,input):\n",
    "        \n",
    "        x = self.layer1(input)\n",
    "        x = self.layer2(x)\n",
    "        \n",
    "        #Action Distribution\n",
    "        actor = self.actor(x)\n",
    "        \n",
    "        #Value of rollout of rewards\n",
    "        critic = self.critic(x)\n",
    "        \n",
    "        return actor, critic"
   ]
  },
  {
   "cell_type": "code",
   "execution_count": 52,
   "id": "c8b86a4b",
   "metadata": {},
   "outputs": [],
   "source": [
    "model = Model(4)"
   ]
  },
  {
   "cell_type": "code",
   "execution_count": 53,
   "id": "4d014603",
   "metadata": {},
   "outputs": [],
   "source": [
    "env = gym.make(\"LunarLander-v2\")"
   ]
  },
  {
   "cell_type": "code",
   "execution_count": 54,
   "id": "cd6cfe10",
   "metadata": {},
   "outputs": [],
   "source": [
    "space = env.reset()"
   ]
  },
  {
   "cell_type": "code",
   "execution_count": 55,
   "id": "1e605dd1",
   "metadata": {},
   "outputs": [
    {
     "data": {
      "text/plain": [
       "array([ 0.00311222,  1.3986368 ,  0.3152082 , -0.54591626, -0.0035994 ,\n",
       "       -0.07139947,  0.        ,  0.        ], dtype=float32)"
      ]
     },
     "execution_count": 55,
     "metadata": {},
     "output_type": "execute_result"
    }
   ],
   "source": [
    "space"
   ]
  },
  {
   "cell_type": "code",
   "execution_count": 56,
   "id": "0ab8dc0f",
   "metadata": {},
   "outputs": [],
   "source": [
    "state = tf.convert_to_tensor(space)"
   ]
  },
  {
   "cell_type": "code",
   "execution_count": 57,
   "id": "5f02df5a",
   "metadata": {},
   "outputs": [],
   "source": [
    "state = tf.convert_to_tensor(state)\n",
    "state = tf.reshape(state, (1, len(state)))\n",
    "\n",
    "action_probs, critic_val = model(state)"
   ]
  },
  {
   "cell_type": "code",
   "execution_count": 58,
   "id": "08e9670c",
   "metadata": {},
   "outputs": [
    {
     "data": {
      "text/plain": [
       "<tf.Tensor: shape=(1, 4), dtype=float32, numpy=array([[0.31890666, 0.17685933, 0.24910223, 0.25513178]], dtype=float32)>"
      ]
     },
     "execution_count": 58,
     "metadata": {},
     "output_type": "execute_result"
    }
   ],
   "source": [
    "action_probs"
   ]
  },
  {
   "cell_type": "code",
   "execution_count": 59,
   "id": "0c1e160b",
   "metadata": {},
   "outputs": [
    {
     "data": {
      "text/plain": [
       "<tf.Tensor: shape=(1, 1), dtype=float32, numpy=array([[0.25513676]], dtype=float32)>"
      ]
     },
     "execution_count": 59,
     "metadata": {},
     "output_type": "execute_result"
    }
   ],
   "source": [
    "critic_val"
   ]
  },
  {
   "cell_type": "code",
   "execution_count": 60,
   "id": "6dcae134",
   "metadata": {},
   "outputs": [],
   "source": [
    "action = np.random.choice(env.action_space.n, p = np.squeeze(action_probs))"
   ]
  },
  {
   "cell_type": "code",
   "execution_count": 61,
   "id": "b3cb7851",
   "metadata": {},
   "outputs": [
    {
     "data": {
      "text/plain": [
       "1"
      ]
     },
     "execution_count": 61,
     "metadata": {},
     "output_type": "execute_result"
    }
   ],
   "source": [
    "action"
   ]
  },
  {
   "cell_type": "code",
   "execution_count": 45,
   "id": "23ee3a59",
   "metadata": {},
   "outputs": [
    {
     "data": {
      "text/plain": [
       "array([0.24676606, 0.25266385, 0.25108433, 0.24948576], dtype=float32)"
      ]
     },
     "execution_count": 45,
     "metadata": {},
     "output_type": "execute_result"
    }
   ],
   "source": [
    "np.squeeze(action_probs)"
   ]
  },
  {
   "cell_type": "code",
   "execution_count": 46,
   "id": "3808a1a5",
   "metadata": {},
   "outputs": [
    {
     "data": {
      "text/plain": [
       "2"
      ]
     },
     "execution_count": 46,
     "metadata": {},
     "output_type": "execute_result"
    }
   ],
   "source": [
    "env.action_space.n"
   ]
  },
  {
   "cell_type": "code",
   "execution_count": 63,
   "id": "02292177",
   "metadata": {},
   "outputs": [],
   "source": [
    "action_probs_episodes = []\n",
    "critic_val_episodes = []\n"
   ]
  },
  {
   "cell_type": "code",
   "execution_count": 70,
   "id": "01db536d",
   "metadata": {},
   "outputs": [],
   "source": [
    "episode_reward = 0"
   ]
  },
  {
   "cell_type": "code",
   "execution_count": 67,
   "id": "4c7491d8",
   "metadata": {},
   "outputs": [],
   "source": [
    "rewards_history = []"
   ]
  },
  {
   "cell_type": "code",
   "execution_count": 64,
   "id": "f3173893",
   "metadata": {},
   "outputs": [],
   "source": [
    "action_probs_episodes.append(tf.math.log(action_probs[0, action]))"
   ]
  },
  {
   "cell_type": "code",
   "execution_count": 65,
   "id": "ea5c46c4",
   "metadata": {},
   "outputs": [],
   "source": [
    "state, reward, done, _ = env.step(action)"
   ]
  },
  {
   "cell_type": "code",
   "execution_count": 66,
   "id": "ba4d6417",
   "metadata": {},
   "outputs": [
    {
     "data": {
      "text/plain": [
       "array([ 0.0061492 ,  1.385767  ,  0.30536947, -0.57200074, -0.00524055,\n",
       "       -0.03282565,  0.        ,  0.        ], dtype=float32)"
      ]
     },
     "execution_count": 66,
     "metadata": {},
     "output_type": "execute_result"
    }
   ],
   "source": [
    "state"
   ]
  },
  {
   "cell_type": "code",
   "execution_count": 71,
   "id": "b7754cd7",
   "metadata": {},
   "outputs": [],
   "source": [
    "rewards_history.append(reward)\n",
    "episode_reward += reward"
   ]
  },
  {
   "cell_type": "code",
   "execution_count": null,
   "id": "80168b88",
   "metadata": {},
   "outputs": [],
   "source": []
  }
 ],
 "metadata": {
  "kernelspec": {
   "display_name": "Python 3 (ipykernel)",
   "language": "python",
   "name": "python3"
  },
  "language_info": {
   "codemirror_mode": {
    "name": "ipython",
    "version": 3
   },
   "file_extension": ".py",
   "mimetype": "text/x-python",
   "name": "python",
   "nbconvert_exporter": "python",
   "pygments_lexer": "ipython3",
   "version": "3.9.12"
  }
 },
 "nbformat": 4,
 "nbformat_minor": 5
}
